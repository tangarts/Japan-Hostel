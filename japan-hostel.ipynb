{
 "cells": [
  {
   "cell_type": "markdown",
   "metadata": {},
   "source": [
    "# Data Analysis of Hostels in Japan"
   ]
  },
  {
   "cell_type": "code",
   "execution_count": 103,
   "metadata": {},
   "outputs": [],
   "source": [
    "import numpy as np\n",
    "import pandas as pd\n",
    "import seaborn as sns\n",
    "import matplotlib.pyplot as plt\n",
    "plt.style.use('ggplot')\n",
    "%matplotlib inline"
   ]
  },
  {
   "cell_type": "markdown",
   "metadata": {},
   "source": [
    "According to [japan guide](https://www.japan-guide.com/e/e2025.html), accomodation prices range from less than $\\yen 20,000$ per person in a hostel dormitory to over  $\\yen 50,000$ per person in a first class hotel or ryokan."
   ]
  },
  {
   "cell_type": "markdown",
   "metadata": {},
   "source": [
    "### Questions\n",
    "\n",
    "- What is the average price per night when budgeting a stay in Japan?"
   ]
  },
  {
   "cell_type": "markdown",
   "metadata": {},
   "source": [
    "### Preprocessing & Cleaning\n",
    "\n",
    "We'll start by renaming columns and casting the Distance column from string to numeric type, first removing 'km from city centre' from each entry."
   ]
  },
  {
   "cell_type": "code",
   "execution_count": 104,
   "metadata": {},
   "outputs": [],
   "source": [
    "hostel = pd.read_csv('Hostel.csv', index_col=0)\n",
    "hostel.columns = [\"Name\", \"City\", \"Price\", \n",
    "                      \"Distance\", \"Score\", \"Rating\", \"Atmosphere\", \n",
    "                      \"Cleaniness\", \"Facilities\", \"Location\", \"Security\", \"Staff\", \"Value\", \n",
    "                      \"Longitude\", \"Latitude\"]"
   ]
  },
  {
   "cell_type": "code",
   "execution_count": 105,
   "metadata": {
    "scrolled": true
   },
   "outputs": [
    {
     "data": {
      "text/html": [
       "<div>\n",
       "<style scoped>\n",
       "    .dataframe tbody tr th:only-of-type {\n",
       "        vertical-align: middle;\n",
       "    }\n",
       "\n",
       "    .dataframe tbody tr th {\n",
       "        vertical-align: top;\n",
       "    }\n",
       "\n",
       "    .dataframe thead th {\n",
       "        text-align: right;\n",
       "    }\n",
       "</style>\n",
       "<table border=\"1\" class=\"dataframe\">\n",
       "  <thead>\n",
       "    <tr style=\"text-align: right;\">\n",
       "      <th></th>\n",
       "      <th>Name</th>\n",
       "      <th>Price</th>\n",
       "      <th>Distance</th>\n",
       "      <th>Score</th>\n",
       "      <th>Rating</th>\n",
       "      <th>Atmosphere</th>\n",
       "      <th>Cleaniness</th>\n",
       "      <th>Facilities</th>\n",
       "      <th>Location</th>\n",
       "      <th>Security</th>\n",
       "      <th>Staff</th>\n",
       "      <th>Value</th>\n",
       "      <th>Longitude</th>\n",
       "      <th>Latitude</th>\n",
       "    </tr>\n",
       "    <tr>\n",
       "      <th>City</th>\n",
       "      <th></th>\n",
       "      <th></th>\n",
       "      <th></th>\n",
       "      <th></th>\n",
       "      <th></th>\n",
       "      <th></th>\n",
       "      <th></th>\n",
       "      <th></th>\n",
       "      <th></th>\n",
       "      <th></th>\n",
       "      <th></th>\n",
       "      <th></th>\n",
       "      <th></th>\n",
       "      <th></th>\n",
       "    </tr>\n",
       "  </thead>\n",
       "  <tbody>\n",
       "    <tr>\n",
       "      <th>Fukuoka-City</th>\n",
       "      <td>19</td>\n",
       "      <td>19</td>\n",
       "      <td>19</td>\n",
       "      <td>17</td>\n",
       "      <td>17</td>\n",
       "      <td>17</td>\n",
       "      <td>17</td>\n",
       "      <td>17</td>\n",
       "      <td>17</td>\n",
       "      <td>17</td>\n",
       "      <td>17</td>\n",
       "      <td>17</td>\n",
       "      <td>14</td>\n",
       "      <td>14</td>\n",
       "    </tr>\n",
       "    <tr>\n",
       "      <th>Hiroshima</th>\n",
       "      <td>14</td>\n",
       "      <td>14</td>\n",
       "      <td>14</td>\n",
       "      <td>14</td>\n",
       "      <td>14</td>\n",
       "      <td>14</td>\n",
       "      <td>14</td>\n",
       "      <td>14</td>\n",
       "      <td>14</td>\n",
       "      <td>14</td>\n",
       "      <td>14</td>\n",
       "      <td>14</td>\n",
       "      <td>13</td>\n",
       "      <td>13</td>\n",
       "    </tr>\n",
       "    <tr>\n",
       "      <th>Kyoto</th>\n",
       "      <td>78</td>\n",
       "      <td>78</td>\n",
       "      <td>78</td>\n",
       "      <td>73</td>\n",
       "      <td>73</td>\n",
       "      <td>73</td>\n",
       "      <td>73</td>\n",
       "      <td>73</td>\n",
       "      <td>73</td>\n",
       "      <td>73</td>\n",
       "      <td>73</td>\n",
       "      <td>73</td>\n",
       "      <td>66</td>\n",
       "      <td>66</td>\n",
       "    </tr>\n",
       "    <tr>\n",
       "      <th>Osaka</th>\n",
       "      <td>104</td>\n",
       "      <td>104</td>\n",
       "      <td>104</td>\n",
       "      <td>101</td>\n",
       "      <td>101</td>\n",
       "      <td>101</td>\n",
       "      <td>101</td>\n",
       "      <td>101</td>\n",
       "      <td>101</td>\n",
       "      <td>101</td>\n",
       "      <td>101</td>\n",
       "      <td>101</td>\n",
       "      <td>89</td>\n",
       "      <td>89</td>\n",
       "    </tr>\n",
       "    <tr>\n",
       "      <th>Tokyo</th>\n",
       "      <td>127</td>\n",
       "      <td>127</td>\n",
       "      <td>127</td>\n",
       "      <td>122</td>\n",
       "      <td>122</td>\n",
       "      <td>122</td>\n",
       "      <td>122</td>\n",
       "      <td>122</td>\n",
       "      <td>122</td>\n",
       "      <td>122</td>\n",
       "      <td>122</td>\n",
       "      <td>122</td>\n",
       "      <td>116</td>\n",
       "      <td>116</td>\n",
       "    </tr>\n",
       "  </tbody>\n",
       "</table>\n",
       "</div>"
      ],
      "text/plain": [
       "              Name  Price  Distance  Score  Rating  Atmosphere  Cleaniness  \\\n",
       "City                                                                         \n",
       "Fukuoka-City    19     19        19     17      17          17          17   \n",
       "Hiroshima       14     14        14     14      14          14          14   \n",
       "Kyoto           78     78        78     73      73          73          73   \n",
       "Osaka          104    104       104    101     101         101         101   \n",
       "Tokyo          127    127       127    122     122         122         122   \n",
       "\n",
       "              Facilities  Location  Security  Staff  Value  Longitude  \\\n",
       "City                                                                    \n",
       "Fukuoka-City          17        17        17     17     17         14   \n",
       "Hiroshima             14        14        14     14     14         13   \n",
       "Kyoto                 73        73        73     73     73         66   \n",
       "Osaka                101       101       101    101    101         89   \n",
       "Tokyo                122       122       122    122    122        116   \n",
       "\n",
       "              Latitude  \n",
       "City                    \n",
       "Fukuoka-City        14  \n",
       "Hiroshima           13  \n",
       "Kyoto               66  \n",
       "Osaka               89  \n",
       "Tokyo              116  "
      ]
     },
     "execution_count": 105,
     "metadata": {},
     "output_type": "execute_result"
    }
   ],
   "source": [
    "hostel.groupby('City').count()"
   ]
  },
  {
   "cell_type": "markdown",
   "metadata": {},
   "source": [
    "Further explaination of the variables:\n",
    "\n",
    "- **Price**: Minimum price for 1 night stay (￥）\n",
    "- **Score**: Total rating score of a hostel.\n",
    "    - **Atmosphere**: Hostel’s rating score of atmosphere\n",
    "    - **Cleanliness**: Hostel’s rating score of cleanliness\n",
    "    - **Facilities**: Hostel’s rating score of facilities\n",
    "    - **Location**: Hostel’s rating score of location\n",
    "    - **Security**: Hostel’s rating score of security\n",
    "    - **Staff**: Hostel’s rating score of staff\n",
    "    - **Value**: Hostel’s rating score of value for money\n"
   ]
  },
  {
   "cell_type": "code",
   "execution_count": 106,
   "metadata": {
    "scrolled": false
   },
   "outputs": [
    {
     "data": {
      "text/html": [
       "<div>\n",
       "<style scoped>\n",
       "    .dataframe tbody tr th:only-of-type {\n",
       "        vertical-align: middle;\n",
       "    }\n",
       "\n",
       "    .dataframe tbody tr th {\n",
       "        vertical-align: top;\n",
       "    }\n",
       "\n",
       "    .dataframe thead th {\n",
       "        text-align: right;\n",
       "    }\n",
       "</style>\n",
       "<table border=\"1\" class=\"dataframe\">\n",
       "  <thead>\n",
       "    <tr style=\"text-align: right;\">\n",
       "      <th></th>\n",
       "      <th>Name</th>\n",
       "      <th>City</th>\n",
       "      <th>Price</th>\n",
       "      <th>Distance</th>\n",
       "      <th>Score</th>\n",
       "      <th>Rating</th>\n",
       "      <th>Atmosphere</th>\n",
       "      <th>Cleaniness</th>\n",
       "      <th>Facilities</th>\n",
       "      <th>Location</th>\n",
       "      <th>Security</th>\n",
       "      <th>Staff</th>\n",
       "      <th>Value</th>\n",
       "      <th>Longitude</th>\n",
       "      <th>Latitude</th>\n",
       "    </tr>\n",
       "  </thead>\n",
       "  <tbody>\n",
       "    <tr>\n",
       "      <th>1</th>\n",
       "      <td>\"Bike &amp; Bed\" CharinCo Hostel</td>\n",
       "      <td>Osaka</td>\n",
       "      <td>3300</td>\n",
       "      <td>2.9</td>\n",
       "      <td>9.2</td>\n",
       "      <td>Superb</td>\n",
       "      <td>8.9</td>\n",
       "      <td>9.4</td>\n",
       "      <td>9.3</td>\n",
       "      <td>8.9</td>\n",
       "      <td>9.0</td>\n",
       "      <td>9.4</td>\n",
       "      <td>9.4</td>\n",
       "      <td>135.513767</td>\n",
       "      <td>34.682678</td>\n",
       "    </tr>\n",
       "  </tbody>\n",
       "</table>\n",
       "</div>"
      ],
      "text/plain": [
       "                           Name   City  Price Distance  Score  Rating  \\\n",
       "1  \"Bike & Bed\" CharinCo Hostel  Osaka   3300      2.9    9.2  Superb   \n",
       "\n",
       "   Atmosphere  Cleaniness  Facilities  Location  Security  Staff  Value  \\\n",
       "1         8.9         9.4         9.3       8.9       9.0    9.4    9.4   \n",
       "\n",
       "    Longitude   Latitude  \n",
       "1  135.513767  34.682678  "
      ]
     },
     "execution_count": 106,
     "metadata": {},
     "output_type": "execute_result"
    }
   ],
   "source": [
    "hostel[\"Distance\"] = hostel[\"Distance\"].str.split(\"km\").str[0]\n",
    "hostel.head(1)"
   ]
  },
  {
   "cell_type": "code",
   "execution_count": 107,
   "metadata": {},
   "outputs": [],
   "source": [
    "hostel.Distance = pd.to_numeric(hostel.Distance) # Cast Distance to numeric "
   ]
  },
  {
   "cell_type": "markdown",
   "metadata": {},
   "source": [
    "We continue by removing the Longitude and Latitude columns in the dataframe, they won't be necessary in answering our question.  \n",
    "We also remove any rows that contain 5 or more NULL values."
   ]
  },
  {
   "cell_type": "code",
   "execution_count": 108,
   "metadata": {},
   "outputs": [],
   "source": [
    "hostel.drop(['Longitude', 'Latitude'], axis=1, inplace=True) # remove latitude, longitude column\n",
    "hostel.dropna(thresh=5, inplace=True) # remove rows that contain less than 5 values"
   ]
  },
  {
   "cell_type": "code",
   "execution_count": 109,
   "metadata": {
    "scrolled": false
   },
   "outputs": [
    {
     "name": "stdout",
     "output_type": "stream",
     "text": [
      "There are 0 NULL values in our dataframe\n"
     ]
    },
    {
     "data": {
      "text/html": [
       "<div>\n",
       "<style scoped>\n",
       "    .dataframe tbody tr th:only-of-type {\n",
       "        vertical-align: middle;\n",
       "    }\n",
       "\n",
       "    .dataframe tbody tr th {\n",
       "        vertical-align: top;\n",
       "    }\n",
       "\n",
       "    .dataframe thead th {\n",
       "        text-align: right;\n",
       "    }\n",
       "</style>\n",
       "<table border=\"1\" class=\"dataframe\">\n",
       "  <thead>\n",
       "    <tr style=\"text-align: right;\">\n",
       "      <th></th>\n",
       "      <th>Name</th>\n",
       "      <th>City</th>\n",
       "      <th>Price</th>\n",
       "      <th>Distance</th>\n",
       "      <th>Score</th>\n",
       "      <th>Rating</th>\n",
       "      <th>Atmosphere</th>\n",
       "      <th>Cleaniness</th>\n",
       "      <th>Facilities</th>\n",
       "      <th>Location</th>\n",
       "      <th>Security</th>\n",
       "      <th>Staff</th>\n",
       "      <th>Value</th>\n",
       "    </tr>\n",
       "  </thead>\n",
       "  <tbody>\n",
       "    <tr>\n",
       "      <th>338</th>\n",
       "      <td>YADOYA Guesthouse Green</td>\n",
       "      <td>Tokyo</td>\n",
       "      <td>2300</td>\n",
       "      <td>2.6</td>\n",
       "      <td>8.2</td>\n",
       "      <td>Fabulous</td>\n",
       "      <td>7.9</td>\n",
       "      <td>7.7</td>\n",
       "      <td>6.9</td>\n",
       "      <td>8.9</td>\n",
       "      <td>8.9</td>\n",
       "      <td>8.8</td>\n",
       "      <td>8.3</td>\n",
       "    </tr>\n",
       "    <tr>\n",
       "      <th>339</th>\n",
       "      <td>YADOYA Guesthouse Orange</td>\n",
       "      <td>Tokyo</td>\n",
       "      <td>2000</td>\n",
       "      <td>2.9</td>\n",
       "      <td>8.9</td>\n",
       "      <td>Fabulous</td>\n",
       "      <td>8.6</td>\n",
       "      <td>9.0</td>\n",
       "      <td>7.8</td>\n",
       "      <td>9.4</td>\n",
       "      <td>9.0</td>\n",
       "      <td>9.2</td>\n",
       "      <td>9.4</td>\n",
       "    </tr>\n",
       "    <tr>\n",
       "      <th>340</th>\n",
       "      <td>YAWP! backpackers</td>\n",
       "      <td>Tokyo</td>\n",
       "      <td>2500</td>\n",
       "      <td>17.5</td>\n",
       "      <td>9.3</td>\n",
       "      <td>Superb</td>\n",
       "      <td>9.5</td>\n",
       "      <td>9.3</td>\n",
       "      <td>9.4</td>\n",
       "      <td>8.5</td>\n",
       "      <td>9.5</td>\n",
       "      <td>9.2</td>\n",
       "      <td>9.6</td>\n",
       "    </tr>\n",
       "    <tr>\n",
       "      <th>341</th>\n",
       "      <td>You En Me House</td>\n",
       "      <td>Kyoto</td>\n",
       "      <td>2800</td>\n",
       "      <td>2.4</td>\n",
       "      <td>8.0</td>\n",
       "      <td>Fabulous</td>\n",
       "      <td>7.3</td>\n",
       "      <td>8.0</td>\n",
       "      <td>6.7</td>\n",
       "      <td>8.0</td>\n",
       "      <td>8.7</td>\n",
       "      <td>10.0</td>\n",
       "      <td>7.3</td>\n",
       "    </tr>\n",
       "    <tr>\n",
       "      <th>342</th>\n",
       "      <td>Zabutton Hostel</td>\n",
       "      <td>Tokyo</td>\n",
       "      <td>2900</td>\n",
       "      <td>5.9</td>\n",
       "      <td>8.6</td>\n",
       "      <td>Fabulous</td>\n",
       "      <td>8.1</td>\n",
       "      <td>8.5</td>\n",
       "      <td>7.8</td>\n",
       "      <td>9.0</td>\n",
       "      <td>8.9</td>\n",
       "      <td>9.5</td>\n",
       "      <td>8.5</td>\n",
       "    </tr>\n",
       "  </tbody>\n",
       "</table>\n",
       "</div>"
      ],
      "text/plain": [
       "                         Name   City  Price  Distance  Score    Rating  \\\n",
       "338   YADOYA Guesthouse Green  Tokyo   2300       2.6    8.2  Fabulous   \n",
       "339  YADOYA Guesthouse Orange  Tokyo   2000       2.9    8.9  Fabulous   \n",
       "340         YAWP! backpackers  Tokyo   2500      17.5    9.3    Superb   \n",
       "341           You En Me House  Kyoto   2800       2.4    8.0  Fabulous   \n",
       "342           Zabutton Hostel  Tokyo   2900       5.9    8.6  Fabulous   \n",
       "\n",
       "     Atmosphere  Cleaniness  Facilities  Location  Security  Staff  Value  \n",
       "338         7.9         7.7         6.9       8.9       8.9    8.8    8.3  \n",
       "339         8.6         9.0         7.8       9.4       9.0    9.2    9.4  \n",
       "340         9.5         9.3         9.4       8.5       9.5    9.2    9.6  \n",
       "341         7.3         8.0         6.7       8.0       8.7   10.0    7.3  \n",
       "342         8.1         8.5         7.8       9.0       8.9    9.5    8.5  "
      ]
     },
     "execution_count": 109,
     "metadata": {},
     "output_type": "execute_result"
    }
   ],
   "source": [
    "print('There are %d NULL values in our dataframe' %hostel.isnull().any().sum()) # check if there are any null values\n",
    "hostel.tail()"
   ]
  },
  {
   "cell_type": "markdown",
   "metadata": {},
   "source": [
    "## Exploratory Data Analysis"
   ]
  },
  {
   "cell_type": "code",
   "execution_count": 110,
   "metadata": {},
   "outputs": [
    {
     "data": {
      "image/png": "[encoded data removed]",
      "text/plain": [
       "<Figure size 432x288 with 1 Axes>"
      ]
     },
     "metadata": {
      "needs_background": "light"
     },
     "output_type": "display_data"
    }
   ],
   "source": [
    "#  number of hostels in each city\n",
    "hostel.groupby('City').size().plot(kind='barh', width=0.8, title='Number of hostels in each city', )\n",
    "plt.show()"
   ]
  },
  {
   "cell_type": "code",
   "execution_count": 120,
   "metadata": {
    "scrolled": false
   },
   "outputs": [
    {
     "data": {
      "image/png": "[encoded data removed]",
      "text/plain": [
       "<Figure size 432x288 with 1 Axes>"
      ]
     },
     "metadata": {
      "needs_background": "light"
     },
     "output_type": "display_data"
    }
   ],
   "source": [
    "sns.boxplot(hostel.City, hostel['Price'])\n",
    "plt.show()"
   ]
  },
  {
   "cell_type": "markdown",
   "metadata": {},
   "source": [
    "Two obvious outliers in Tokyo and Osaka which we remove from the dataset."
   ]
  },
  {
   "cell_type": "code",
   "execution_count": 121,
   "metadata": {
    "scrolled": true
   },
   "outputs": [
    {
     "data": {
      "image/png": "[encoded data removed]",
      "text/plain": [
       "<Figure size 432x288 with 1 Axes>"
      ]
     },
     "metadata": {
      "needs_background": "light"
     },
     "output_type": "display_data"
    }
   ],
   "source": [
    "hostel = hostel[hostel[\"Price\"] < 10000]\n",
    "sns.boxplot(hostel.City, hostel['Price'])\n",
    "plt.show()"
   ]
  },
  {
   "cell_type": "markdown",
   "metadata": {},
   "source": [
    "It's expected that Tokyo would have a large range of hostel prices considering it is the capital city, the most popular place to stay."
   ]
  },
  {
   "cell_type": "markdown",
   "metadata": {},
   "source": [
    "### Location, Location, Location"
   ]
  },
  {
   "cell_type": "code",
   "execution_count": 122,
   "metadata": {},
   "outputs": [
    {
     "data": {
      "image/png": "[encoded data removed]",
      "text/plain": [
       "<Figure size 720x432 with 1 Axes>"
      ]
     },
     "metadata": {
      "needs_background": "light"
     },
     "output_type": "display_data"
    }
   ],
   "source": [
    "plt.figure(figsize = (10,6))\n",
    "sns.scatterplot(data=hostel, x=hostel.Distance, y=hostel.Price, hue=hostel.City,)\n",
    "plt.show()"
   ]
  },
  {
   "cell_type": "markdown",
   "metadata": {},
   "source": [
    "It's surprising to see that distance from the city centre doesn't affect the pricing of Hostels.  \n",
    "Especially Kyoto, the majority of hostels are located within 5km of its centre."
   ]
  },
  {
   "cell_type": "markdown",
   "metadata": {},
   "source": [
    "## SQL-like Pandas Queries"
   ]
  },
  {
   "cell_type": "markdown",
   "metadata": {},
   "source": [
    "As well as computing summary statistics for the entire dataset we will query the dataframe to find specific entries such as the hostel with the minimum price."
   ]
  },
  {
   "cell_type": "code",
   "execution_count": 241,
   "metadata": {
    "collapsed": true
   },
   "outputs": [
    {
     "data": {
      "text/html": [
       "<div>\n",
       "<style scoped>\n",
       "    .dataframe tbody tr th:only-of-type {\n",
       "        vertical-align: middle;\n",
       "    }\n",
       "\n",
       "    .dataframe tbody tr th {\n",
       "        vertical-align: top;\n",
       "    }\n",
       "\n",
       "    .dataframe thead th {\n",
       "        text-align: right;\n",
       "    }\n",
       "</style>\n",
       "<table border=\"1\" class=\"dataframe\">\n",
       "  <thead>\n",
       "    <tr style=\"text-align: right;\">\n",
       "      <th></th>\n",
       "      <th>Price</th>\n",
       "      <th>Distance</th>\n",
       "      <th>Score</th>\n",
       "      <th>Atmosphere</th>\n",
       "      <th>Cleaniness</th>\n",
       "      <th>Facilities</th>\n",
       "      <th>Location</th>\n",
       "      <th>Security</th>\n",
       "      <th>Staff</th>\n",
       "      <th>Value</th>\n",
       "    </tr>\n",
       "  </thead>\n",
       "  <tbody>\n",
       "    <tr>\n",
       "      <th>count</th>\n",
       "      <td>325.000000</td>\n",
       "      <td>325.000000</td>\n",
       "      <td>325.000000</td>\n",
       "      <td>325.000000</td>\n",
       "      <td>325.000000</td>\n",
       "      <td>325.000000</td>\n",
       "      <td>325.000000</td>\n",
       "      <td>325.000000</td>\n",
       "      <td>325.000000</td>\n",
       "      <td>325.000000</td>\n",
       "    </tr>\n",
       "    <tr>\n",
       "      <th>mean</th>\n",
       "      <td>2492.000000</td>\n",
       "      <td>5.776615</td>\n",
       "      <td>8.786462</td>\n",
       "      <td>8.252615</td>\n",
       "      <td>9.012000</td>\n",
       "      <td>8.592000</td>\n",
       "      <td>8.696000</td>\n",
       "      <td>8.950154</td>\n",
       "      <td>9.137231</td>\n",
       "      <td>8.859692</td>\n",
       "    </tr>\n",
       "    <tr>\n",
       "      <th>std</th>\n",
       "      <td>819.965371</td>\n",
       "      <td>4.623211</td>\n",
       "      <td>0.962508</td>\n",
       "      <td>1.374986</td>\n",
       "      <td>1.216988</td>\n",
       "      <td>1.286755</td>\n",
       "      <td>1.105297</td>\n",
       "      <td>1.116532</td>\n",
       "      <td>1.088009</td>\n",
       "      <td>1.037926</td>\n",
       "    </tr>\n",
       "    <tr>\n",
       "      <th>min</th>\n",
       "      <td>1000.000000</td>\n",
       "      <td>0.000000</td>\n",
       "      <td>3.100000</td>\n",
       "      <td>2.000000</td>\n",
       "      <td>2.000000</td>\n",
       "      <td>2.000000</td>\n",
       "      <td>2.000000</td>\n",
       "      <td>2.000000</td>\n",
       "      <td>2.000000</td>\n",
       "      <td>4.000000</td>\n",
       "    </tr>\n",
       "    <tr>\n",
       "      <th>25%</th>\n",
       "      <td>2000.000000</td>\n",
       "      <td>2.300000</td>\n",
       "      <td>8.600000</td>\n",
       "      <td>7.900000</td>\n",
       "      <td>8.800000</td>\n",
       "      <td>8.000000</td>\n",
       "      <td>8.000000</td>\n",
       "      <td>8.700000</td>\n",
       "      <td>9.000000</td>\n",
       "      <td>8.600000</td>\n",
       "    </tr>\n",
       "    <tr>\n",
       "      <th>50%</th>\n",
       "      <td>2500.000000</td>\n",
       "      <td>4.500000</td>\n",
       "      <td>9.000000</td>\n",
       "      <td>8.600000</td>\n",
       "      <td>9.300000</td>\n",
       "      <td>9.000000</td>\n",
       "      <td>9.000000</td>\n",
       "      <td>9.200000</td>\n",
       "      <td>9.400000</td>\n",
       "      <td>9.100000</td>\n",
       "    </tr>\n",
       "    <tr>\n",
       "      <th>75%</th>\n",
       "      <td>2900.000000</td>\n",
       "      <td>8.500000</td>\n",
       "      <td>9.400000</td>\n",
       "      <td>9.000000</td>\n",
       "      <td>9.800000</td>\n",
       "      <td>9.300000</td>\n",
       "      <td>9.400000</td>\n",
       "      <td>9.600000</td>\n",
       "      <td>9.800000</td>\n",
       "      <td>9.500000</td>\n",
       "    </tr>\n",
       "    <tr>\n",
       "      <th>max</th>\n",
       "      <td>7600.000000</td>\n",
       "      <td>36.600000</td>\n",
       "      <td>10.000000</td>\n",
       "      <td>10.000000</td>\n",
       "      <td>10.000000</td>\n",
       "      <td>10.000000</td>\n",
       "      <td>10.000000</td>\n",
       "      <td>10.000000</td>\n",
       "      <td>10.000000</td>\n",
       "      <td>10.000000</td>\n",
       "    </tr>\n",
       "  </tbody>\n",
       "</table>\n",
       "</div>"
      ],
      "text/plain": [
       "             Price    Distance       Score  Atmosphere  Cleaniness  \\\n",
       "count   325.000000  325.000000  325.000000  325.000000  325.000000   \n",
       "mean   2492.000000    5.776615    8.786462    8.252615    9.012000   \n",
       "std     819.965371    4.623211    0.962508    1.374986    1.216988   \n",
       "min    1000.000000    0.000000    3.100000    2.000000    2.000000   \n",
       "25%    2000.000000    2.300000    8.600000    7.900000    8.800000   \n",
       "50%    2500.000000    4.500000    9.000000    8.600000    9.300000   \n",
       "75%    2900.000000    8.500000    9.400000    9.000000    9.800000   \n",
       "max    7600.000000   36.600000   10.000000   10.000000   10.000000   \n",
       "\n",
       "       Facilities    Location    Security       Staff       Value  \n",
       "count  325.000000  325.000000  325.000000  325.000000  325.000000  \n",
       "mean     8.592000    8.696000    8.950154    9.137231    8.859692  \n",
       "std      1.286755    1.105297    1.116532    1.088009    1.037926  \n",
       "min      2.000000    2.000000    2.000000    2.000000    4.000000  \n",
       "25%      8.000000    8.000000    8.700000    9.000000    8.600000  \n",
       "50%      9.000000    9.000000    9.200000    9.400000    9.100000  \n",
       "75%      9.300000    9.400000    9.600000    9.800000    9.500000  \n",
       "max     10.000000   10.000000   10.000000   10.000000   10.000000  "
      ]
     },
     "execution_count": 241,
     "metadata": {},
     "output_type": "execute_result"
    }
   ],
   "source": [
    "hostel.describe(exclude='O')"
   ]
  },
  {
   "cell_type": "code",
   "execution_count": 185,
   "metadata": {
    "scrolled": true
   },
   "outputs": [],
   "source": [
    "## Rating bands Rating -> Good -> V. Good -> Fabulous -> Superb\n",
    "rating_ratio = hostel.groupby('Rating')['Score'].count() * 100/ hostel.Rating.count()\n",
    "rating_band = ['Rating', 'Good', 'Very Good', 'Fabulous', 'Superb']\n",
    "rating_ratio = rating_ratio[rating_band]"
   ]
  },
  {
   "cell_type": "code",
   "execution_count": 236,
   "metadata": {},
   "outputs": [
    {
     "data": {
      "image/png": "[encoded data removed]",
      "text/plain": [
       "<Figure size 432x288 with 1 Axes>"
      ]
     },
     "metadata": {
      "needs_background": "light"
     },
     "output_type": "display_data"
    }
   ],
   "source": [
    "ax = rating_ratio.plot(kind='bar', title='Percentage of Ratings',)\n",
    "for i in ax.patches:\n",
    "    ax.annotate(str(np.round(i.get_height(), 2))+'%', (i.get_x(), i.get_height()+0.4),\n",
    "                fontsize=15, color='dimgrey')\n",
    "plt.ylabel('Percentage')\n",
    "plt.show()"
   ]
  },
  {
   "cell_type": "code",
   "execution_count": 117,
   "metadata": {
    "scrolled": true
   },
   "outputs": [
    {
     "data": {
      "text/html": [
       "<div>\n",
       "<style scoped>\n",
       "    .dataframe tbody tr th:only-of-type {\n",
       "        vertical-align: middle;\n",
       "    }\n",
       "\n",
       "    .dataframe tbody tr th {\n",
       "        vertical-align: top;\n",
       "    }\n",
       "\n",
       "    .dataframe thead th {\n",
       "        text-align: right;\n",
       "    }\n",
       "</style>\n",
       "<table border=\"1\" class=\"dataframe\">\n",
       "  <thead>\n",
       "    <tr style=\"text-align: right;\">\n",
       "      <th></th>\n",
       "      <th>Name</th>\n",
       "      <th>City</th>\n",
       "      <th>Price</th>\n",
       "      <th>Distance</th>\n",
       "      <th>Score</th>\n",
       "      <th>Rating</th>\n",
       "      <th>Atmosphere</th>\n",
       "      <th>Cleaniness</th>\n",
       "      <th>Facilities</th>\n",
       "      <th>Location</th>\n",
       "      <th>Security</th>\n",
       "      <th>Staff</th>\n",
       "      <th>Value</th>\n",
       "    </tr>\n",
       "  </thead>\n",
       "  <tbody>\n",
       "    <tr>\n",
       "      <th>63</th>\n",
       "      <td>Downtown Inn Kyoto</td>\n",
       "      <td>Kyoto</td>\n",
       "      <td>1000</td>\n",
       "      <td>1.4</td>\n",
       "      <td>9.3</td>\n",
       "      <td>Superb</td>\n",
       "      <td>8.9</td>\n",
       "      <td>9.7</td>\n",
       "      <td>9.7</td>\n",
       "      <td>9.1</td>\n",
       "      <td>9.1</td>\n",
       "      <td>8.6</td>\n",
       "      <td>9.7</td>\n",
       "    </tr>\n",
       "    <tr>\n",
       "      <th>262</th>\n",
       "      <td>Peace House Abeno</td>\n",
       "      <td>Osaka</td>\n",
       "      <td>1200</td>\n",
       "      <td>6.9</td>\n",
       "      <td>9.0</td>\n",
       "      <td>Superb</td>\n",
       "      <td>9.0</td>\n",
       "      <td>9.1</td>\n",
       "      <td>9.1</td>\n",
       "      <td>8.2</td>\n",
       "      <td>9.1</td>\n",
       "      <td>9.1</td>\n",
       "      <td>9.3</td>\n",
       "    </tr>\n",
       "    <tr>\n",
       "      <th>179</th>\n",
       "      <td>Ikidane House Namba</td>\n",
       "      <td>Osaka</td>\n",
       "      <td>1200</td>\n",
       "      <td>6.5</td>\n",
       "      <td>9.3</td>\n",
       "      <td>Superb</td>\n",
       "      <td>8.9</td>\n",
       "      <td>9.6</td>\n",
       "      <td>9.7</td>\n",
       "      <td>8.8</td>\n",
       "      <td>8.9</td>\n",
       "      <td>9.6</td>\n",
       "      <td>9.6</td>\n",
       "    </tr>\n",
       "  </tbody>\n",
       "</table>\n",
       "</div>"
      ],
      "text/plain": [
       "                    Name   City  Price  Distance  Score  Rating  Atmosphere  \\\n",
       "63    Downtown Inn Kyoto  Kyoto   1000       1.4    9.3  Superb         8.9   \n",
       "262    Peace House Abeno  Osaka   1200       6.9    9.0  Superb         9.0   \n",
       "179  Ikidane House Namba  Osaka   1200       6.5    9.3  Superb         8.9   \n",
       "\n",
       "     Cleaniness  Facilities  Location  Security  Staff  Value  \n",
       "63          9.7         9.7       9.1       9.1    8.6    9.7  \n",
       "262         9.1         9.1       8.2       9.1    9.1    9.3  \n",
       "179         9.6         9.7       8.8       8.9    9.6    9.6  "
      ]
     },
     "execution_count": 117,
     "metadata": {},
     "output_type": "execute_result"
    }
   ],
   "source": [
    "hostel.sort_values(by='Price')[:3]"
   ]
  },
  {
   "cell_type": "markdown",
   "metadata": {},
   "source": [
    "The lowest priced hostel is in Kyoto at $\\yen 1000$ a night. Followed by $\\yen 1200$ in Osaka.\n",
    "\n",
    "What is even more surprising is the price doesn't affect the quality of satisfaction. All three Hostels achieving a summary score of 9.0 or higher.\n"
   ]
  },
  {
   "cell_type": "code",
   "execution_count": 123,
   "metadata": {},
   "outputs": [
    {
     "data": {
      "image/png": "[encoded data removed]",
      "text/plain": [
       "<Figure size 720x432 with 1 Axes>"
      ]
     },
     "metadata": {
      "needs_background": "light"
     },
     "output_type": "display_data"
    }
   ],
   "source": [
    "plt.figure(figsize = (10,6))\n",
    "sns.scatterplot(data=hostel, x=hostel.Score, y=hostel.Price, hue=hostel.City,)\n",
    "plt.show()"
   ]
  },
  {
   "cell_type": "code",
   "execution_count": 245,
   "metadata": {
    "scrolled": true
   },
   "outputs": [
    {
     "data": {
      "text/html": [
       "<div>\n",
       "<style scoped>\n",
       "    .dataframe tbody tr th:only-of-type {\n",
       "        vertical-align: middle;\n",
       "    }\n",
       "\n",
       "    .dataframe tbody tr th {\n",
       "        vertical-align: top;\n",
       "    }\n",
       "\n",
       "    .dataframe thead th {\n",
       "        text-align: right;\n",
       "    }\n",
       "</style>\n",
       "<table border=\"1\" class=\"dataframe\">\n",
       "  <thead>\n",
       "    <tr style=\"text-align: right;\">\n",
       "      <th></th>\n",
       "      <th>count</th>\n",
       "      <th>mean</th>\n",
       "      <th>std</th>\n",
       "      <th>min</th>\n",
       "      <th>25%</th>\n",
       "      <th>50%</th>\n",
       "      <th>75%</th>\n",
       "      <th>max</th>\n",
       "    </tr>\n",
       "    <tr>\n",
       "      <th>Rating</th>\n",
       "      <th></th>\n",
       "      <th></th>\n",
       "      <th></th>\n",
       "      <th></th>\n",
       "      <th></th>\n",
       "      <th></th>\n",
       "      <th></th>\n",
       "      <th></th>\n",
       "    </tr>\n",
       "  </thead>\n",
       "  <tbody>\n",
       "    <tr>\n",
       "      <th>Fabulous</th>\n",
       "      <td>104.0</td>\n",
       "      <td>8.595192</td>\n",
       "      <td>0.277079</td>\n",
       "      <td>8.0</td>\n",
       "      <td>8.40</td>\n",
       "      <td>8.65</td>\n",
       "      <td>8.900</td>\n",
       "      <td>8.9</td>\n",
       "    </tr>\n",
       "    <tr>\n",
       "      <th>Good</th>\n",
       "      <td>11.0</td>\n",
       "      <td>6.500000</td>\n",
       "      <td>0.275681</td>\n",
       "      <td>6.0</td>\n",
       "      <td>6.35</td>\n",
       "      <td>6.50</td>\n",
       "      <td>6.700</td>\n",
       "      <td>6.9</td>\n",
       "    </tr>\n",
       "    <tr>\n",
       "      <th>Rating</th>\n",
       "      <td>8.0</td>\n",
       "      <td>4.850000</td>\n",
       "      <td>0.755929</td>\n",
       "      <td>3.1</td>\n",
       "      <td>4.90</td>\n",
       "      <td>4.95</td>\n",
       "      <td>5.125</td>\n",
       "      <td>5.7</td>\n",
       "    </tr>\n",
       "    <tr>\n",
       "      <th>Superb</th>\n",
       "      <td>182.0</td>\n",
       "      <td>9.345055</td>\n",
       "      <td>0.264581</td>\n",
       "      <td>9.0</td>\n",
       "      <td>9.10</td>\n",
       "      <td>9.30</td>\n",
       "      <td>9.500</td>\n",
       "      <td>10.0</td>\n",
       "    </tr>\n",
       "    <tr>\n",
       "      <th>Very Good</th>\n",
       "      <td>20.0</td>\n",
       "      <td>7.530000</td>\n",
       "      <td>0.249420</td>\n",
       "      <td>7.0</td>\n",
       "      <td>7.40</td>\n",
       "      <td>7.60</td>\n",
       "      <td>7.700</td>\n",
       "      <td>7.9</td>\n",
       "    </tr>\n",
       "  </tbody>\n",
       "</table>\n",
       "</div>"
      ],
      "text/plain": [
       "           count      mean       std  min   25%   50%    75%   max\n",
       "Rating                                                            \n",
       "Fabulous   104.0  8.595192  0.277079  8.0  8.40  8.65  8.900   8.9\n",
       "Good        11.0  6.500000  0.275681  6.0  6.35  6.50  6.700   6.9\n",
       "Rating       8.0  4.850000  0.755929  3.1  4.90  4.95  5.125   5.7\n",
       "Superb     182.0  9.345055  0.264581  9.0  9.10  9.30  9.500  10.0\n",
       "Very Good   20.0  7.530000  0.249420  7.0  7.40  7.60  7.700   7.9"
      ]
     },
     "execution_count": 245,
     "metadata": {},
     "output_type": "execute_result"
    }
   ],
   "source": [
    "hostel.groupby('Rating').describe()['Score']"
   ]
  },
  {
   "cell_type": "markdown",
   "metadata": {},
   "source": [
    "We confirm a general trend of hostels in Tokyo, Kyoto and Osaka- a low priced hostel does not correlate with a lower customer rating.\n",
    "\n",
    "In fact only 2% of hostels listed on Hostel World have a score lower than 6/10.\n",
    "\n",
    "In addition, 88% of the hostels have a score higher than 8/10."
   ]
  },
  {
   "cell_type": "markdown",
   "metadata": {},
   "source": [
    "## Conclusion"
   ]
  },
  {
   "cell_type": "markdown",
   "metadata": {},
   "source": [
    "From the dataset we found out that hostels provide low cost accomodation for high satisfaction.\n",
    "\n",
    "What is even more surprising is that there doesn't seem to be a correlation with distance from the city centre and price per night. "
   ]
  }
 ],
 "metadata": {
  "kernelspec": {
   "display_name": "Python 3",
   "language": "python",
   "name": "python3"
  },
  "language_info": {
   "codemirror_mode": {
    "name": "ipython",
    "version": 3
   },
   "file_extension": ".py",
   "mimetype": "text/x-python",
   "name": "python",
   "nbconvert_exporter": "python",
   "pygments_lexer": "ipython3",
   "version": "3.7.7"
  }
 },
 "nbformat": 4,
 "nbformat_minor": 2
}
