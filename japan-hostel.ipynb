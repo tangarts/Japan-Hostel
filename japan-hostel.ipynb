{
 "cells": [
  {
   "cell_type": "markdown",
   "metadata": {},
   "source": [
    "# Data Analysis of Hostels in Japan"
   ]
  },
  {
   "cell_type": "code",
   "execution_count": 75,
   "metadata": {},
   "outputs": [],
   "source": [
    "import numpy as np\n",
    "import pandas as pd\n",
    "import seaborn as sns\n",
    "import matplotlib.pyplot as plt\n",
    "plt.style.use('ggplot')\n",
    "%matplotlib inline"
   ]
  },
  {
   "cell_type": "markdown",
   "metadata": {},
   "source": [
    "According to [japan guide](https://www.japan-guide.com/e/e2025.html):  \n",
    "'Japan offers a wide range of accommodation types in both Japanese and Western styles.   \n",
    "Rates range from less than 2,000 yen per person in a dormitory to over 50,000 yen per person in a first class hotel or ryokan."
   ]
  },
  {
   "cell_type": "markdown",
   "metadata": {},
   "source": [
    "### Questions\n",
    "\n",
    "- What is the average price per night when budgeting a stay in Japan?\n",
    "- What can I expect from a hostel given my budget of X JPY? (Regression)"
   ]
  },
  {
   "cell_type": "markdown",
   "metadata": {},
   "source": [
    "### Preprocessing & Cleaning\n",
    "\n",
    "We'll start by renaming columns and casting the Distance column from string to numeric type, first removing 'km from city centre' from each entry."
   ]
  },
  {
   "cell_type": "code",
   "execution_count": 139,
   "metadata": {},
   "outputs": [],
   "source": [
    "hostel = pd.read_csv('Hostel.csv', index_col=0)\n",
    "hostel.columns = [\"Hostel_Name\", \"City\", \"Price_from\", \n",
    "                      \"Distance\", \"Summary_Score\", \"Rating\", \"Atmosphere\", \n",
    "                      \"Cleaniness\", \"Facilities\", \"Location\", \"Security\", \"Staff\", \"Value\", \n",
    "                      \"Longitude\", \"Latitude\"]"
   ]
  },
  {
   "cell_type": "markdown",
   "metadata": {},
   "source": [
    "- Price_from: Min price for 1 night stay (￥）\n",
    "- Summary_Score: Total rating score of a hostel.\n",
    "    - Atmosphere: Hostel’s rating score of atmosphere\n",
    "    - Cleanliness: Hostel’s rating score of cleanliness\n",
    "    - Facilities: Hostel’s rating score of facilities\n",
    "    - Location: Hostel’s rating score of location\n",
    "    - Security: Hostel’s rating score of security\n",
    "    - Staff: Hostel’s rating score of staff\n",
    "    - Value: Hostel’s rating score of value for money\n"
   ]
  },
  {
   "cell_type": "code",
   "execution_count": 142,
   "metadata": {
    "scrolled": false
   },
   "outputs": [
    {
     "data": {
      "text/html": [
       "<div>\n",
       "<style scoped>\n",
       "    .dataframe tbody tr th:only-of-type {\n",
       "        vertical-align: middle;\n",
       "    }\n",
       "\n",
       "    .dataframe tbody tr th {\n",
       "        vertical-align: top;\n",
       "    }\n",
       "\n",
       "    .dataframe thead th {\n",
       "        text-align: right;\n",
       "    }\n",
       "</style>\n",
       "<table border=\"1\" class=\"dataframe\">\n",
       "  <thead>\n",
       "    <tr style=\"text-align: right;\">\n",
       "      <th></th>\n",
       "      <th>Hostel_Name</th>\n",
       "      <th>City</th>\n",
       "      <th>Price_from</th>\n",
       "      <th>Distance</th>\n",
       "      <th>Summary_Score</th>\n",
       "      <th>Rating</th>\n",
       "      <th>Atmosphere</th>\n",
       "      <th>Cleaniness</th>\n",
       "      <th>Facilities</th>\n",
       "      <th>Location</th>\n",
       "      <th>Security</th>\n",
       "      <th>Staff</th>\n",
       "      <th>Value</th>\n",
       "      <th>Longitude</th>\n",
       "      <th>Latitude</th>\n",
       "    </tr>\n",
       "  </thead>\n",
       "  <tbody>\n",
       "    <tr>\n",
       "      <th>1</th>\n",
       "      <td>\"Bike &amp; Bed\" CharinCo Hostel</td>\n",
       "      <td>Osaka</td>\n",
       "      <td>3300</td>\n",
       "      <td>2.9</td>\n",
       "      <td>9.2</td>\n",
       "      <td>Superb</td>\n",
       "      <td>8.9</td>\n",
       "      <td>9.4</td>\n",
       "      <td>9.3</td>\n",
       "      <td>8.9</td>\n",
       "      <td>9.0</td>\n",
       "      <td>9.4</td>\n",
       "      <td>9.4</td>\n",
       "      <td>135.513767</td>\n",
       "      <td>34.682678</td>\n",
       "    </tr>\n",
       "  </tbody>\n",
       "</table>\n",
       "</div>"
      ],
      "text/plain": [
       "                    Hostel_Name   City  Price_from Distance  Summary_Score  \\\n",
       "1  \"Bike & Bed\" CharinCo Hostel  Osaka        3300      2.9            9.2   \n",
       "\n",
       "   Rating  Atmosphere  Cleaniness  Facilities  Location  Security  Staff  \\\n",
       "1  Superb         8.9         9.4         9.3       8.9       9.0    9.4   \n",
       "\n",
       "   Value   Longitude   Latitude  \n",
       "1    9.4  135.513767  34.682678  "
      ]
     },
     "execution_count": 142,
     "metadata": {},
     "output_type": "execute_result"
    }
   ],
   "source": [
    "hostel[\"Distance\"] = hostel[\"Distance\"].str.split(\"km\").str[0]\n",
    "hostel.head(1)"
   ]
  },
  {
   "cell_type": "code",
   "execution_count": 143,
   "metadata": {},
   "outputs": [],
   "source": [
    "hostel.Distance = pd.to_numeric(hostel.Distance) # Cast Distance to numeric "
   ]
  },
  {
   "cell_type": "markdown",
   "metadata": {},
   "source": [
    "We continue by removing the Longitude and Latitude columns in the dataframe, they won't be necessary in answering our question.  \n",
    "We also remove any rows that contain 5 or more NULL values."
   ]
  },
  {
   "cell_type": "code",
   "execution_count": 144,
   "metadata": {},
   "outputs": [],
   "source": [
    "hostel.drop(['Longitude', 'Latitude'], axis=1, inplace=True) # remove latitude, longitude column\n",
    "hostel.dropna(thresh=5, inplace=True) # remove rows that contain less than 5 values"
   ]
  },
  {
   "cell_type": "code",
   "execution_count": 149,
   "metadata": {
    "scrolled": true
   },
   "outputs": [
    {
     "name": "stdout",
     "output_type": "stream",
     "text": [
      "There are 0 NULL values in our dataframe\n"
     ]
    },
    {
     "data": {
      "text/html": [
       "<div>\n",
       "<style scoped>\n",
       "    .dataframe tbody tr th:only-of-type {\n",
       "        vertical-align: middle;\n",
       "    }\n",
       "\n",
       "    .dataframe tbody tr th {\n",
       "        vertical-align: top;\n",
       "    }\n",
       "\n",
       "    .dataframe thead th {\n",
       "        text-align: right;\n",
       "    }\n",
       "</style>\n",
       "<table border=\"1\" class=\"dataframe\">\n",
       "  <thead>\n",
       "    <tr style=\"text-align: right;\">\n",
       "      <th></th>\n",
       "      <th>Hostel_Name</th>\n",
       "      <th>City</th>\n",
       "      <th>Price_from</th>\n",
       "      <th>Distance</th>\n",
       "      <th>Summary_Score</th>\n",
       "      <th>Rating</th>\n",
       "      <th>Atmosphere</th>\n",
       "      <th>Cleaniness</th>\n",
       "      <th>Facilities</th>\n",
       "      <th>Location</th>\n",
       "      <th>Security</th>\n",
       "      <th>Staff</th>\n",
       "      <th>Value</th>\n",
       "    </tr>\n",
       "  </thead>\n",
       "  <tbody>\n",
       "    <tr>\n",
       "      <th>338</th>\n",
       "      <td>YADOYA Guesthouse Green</td>\n",
       "      <td>Tokyo</td>\n",
       "      <td>2300</td>\n",
       "      <td>2.6</td>\n",
       "      <td>8.2</td>\n",
       "      <td>Fabulous</td>\n",
       "      <td>7.9</td>\n",
       "      <td>7.7</td>\n",
       "      <td>6.9</td>\n",
       "      <td>8.9</td>\n",
       "      <td>8.9</td>\n",
       "      <td>8.8</td>\n",
       "      <td>8.3</td>\n",
       "    </tr>\n",
       "    <tr>\n",
       "      <th>339</th>\n",
       "      <td>YADOYA Guesthouse Orange</td>\n",
       "      <td>Tokyo</td>\n",
       "      <td>2000</td>\n",
       "      <td>2.9</td>\n",
       "      <td>8.9</td>\n",
       "      <td>Fabulous</td>\n",
       "      <td>8.6</td>\n",
       "      <td>9.0</td>\n",
       "      <td>7.8</td>\n",
       "      <td>9.4</td>\n",
       "      <td>9.0</td>\n",
       "      <td>9.2</td>\n",
       "      <td>9.4</td>\n",
       "    </tr>\n",
       "    <tr>\n",
       "      <th>340</th>\n",
       "      <td>YAWP! backpackers</td>\n",
       "      <td>Tokyo</td>\n",
       "      <td>2500</td>\n",
       "      <td>17.5</td>\n",
       "      <td>9.3</td>\n",
       "      <td>Superb</td>\n",
       "      <td>9.5</td>\n",
       "      <td>9.3</td>\n",
       "      <td>9.4</td>\n",
       "      <td>8.5</td>\n",
       "      <td>9.5</td>\n",
       "      <td>9.2</td>\n",
       "      <td>9.6</td>\n",
       "    </tr>\n",
       "    <tr>\n",
       "      <th>341</th>\n",
       "      <td>You En Me House</td>\n",
       "      <td>Kyoto</td>\n",
       "      <td>2800</td>\n",
       "      <td>2.4</td>\n",
       "      <td>8.0</td>\n",
       "      <td>Fabulous</td>\n",
       "      <td>7.3</td>\n",
       "      <td>8.0</td>\n",
       "      <td>6.7</td>\n",
       "      <td>8.0</td>\n",
       "      <td>8.7</td>\n",
       "      <td>10.0</td>\n",
       "      <td>7.3</td>\n",
       "    </tr>\n",
       "    <tr>\n",
       "      <th>342</th>\n",
       "      <td>Zabutton Hostel</td>\n",
       "      <td>Tokyo</td>\n",
       "      <td>2900</td>\n",
       "      <td>5.9</td>\n",
       "      <td>8.6</td>\n",
       "      <td>Fabulous</td>\n",
       "      <td>8.1</td>\n",
       "      <td>8.5</td>\n",
       "      <td>7.8</td>\n",
       "      <td>9.0</td>\n",
       "      <td>8.9</td>\n",
       "      <td>9.5</td>\n",
       "      <td>8.5</td>\n",
       "    </tr>\n",
       "  </tbody>\n",
       "</table>\n",
       "</div>"
      ],
      "text/plain": [
       "                  Hostel_Name   City  Price_from  Distance  Summary_Score  \\\n",
       "338   YADOYA Guesthouse Green  Tokyo        2300       2.6            8.2   \n",
       "339  YADOYA Guesthouse Orange  Tokyo        2000       2.9            8.9   \n",
       "340         YAWP! backpackers  Tokyo        2500      17.5            9.3   \n",
       "341           You En Me House  Kyoto        2800       2.4            8.0   \n",
       "342           Zabutton Hostel  Tokyo        2900       5.9            8.6   \n",
       "\n",
       "       Rating  Atmosphere  Cleaniness  Facilities  Location  Security  Staff  \\\n",
       "338  Fabulous         7.9         7.7         6.9       8.9       8.9    8.8   \n",
       "339  Fabulous         8.6         9.0         7.8       9.4       9.0    9.2   \n",
       "340    Superb         9.5         9.3         9.4       8.5       9.5    9.2   \n",
       "341  Fabulous         7.3         8.0         6.7       8.0       8.7   10.0   \n",
       "342  Fabulous         8.1         8.5         7.8       9.0       8.9    9.5   \n",
       "\n",
       "     Value  \n",
       "338    8.3  \n",
       "339    9.4  \n",
       "340    9.6  \n",
       "341    7.3  \n",
       "342    8.5  "
      ]
     },
     "execution_count": 149,
     "metadata": {},
     "output_type": "execute_result"
    }
   ],
   "source": [
    "print('There are %d NULL values in our dataframe' %hostel.isnull().any().sum()) # check if there are any null values\n",
    "hostel.tail()"
   ]
  },
  {
   "cell_type": "markdown",
   "metadata": {},
   "source": [
    "## Exploratory Data Analysis"
   ]
  },
  {
   "cell_type": "code",
   "execution_count": 150,
   "metadata": {},
   "outputs": [
    {
     "data": {
      "image/png": "[encoded data removed]",
      "text/plain": [
       "<Figure size 432x288 with 1 Axes>"
      ]
     },
     "metadata": {
      "needs_background": "light"
     },
     "output_type": "display_data"
    }
   ],
   "source": [
    "#  number of hostels in each city\n",
    "hostel.groupby('City').size().plot(kind='barh', width=0.8, title='Number of hostels in each city', )\n",
    "plt.show()"
   ]
  },
  {
   "cell_type": "code",
   "execution_count": 154,
   "metadata": {
    "scrolled": false
   },
   "outputs": [
    {
     "data": {
      "image/png": "[encoded data removed]",
      "text/plain": [
       "<Figure size 432x288 with 1 Axes>"
      ]
     },
     "metadata": {
      "needs_background": "light"
     },
     "output_type": "display_data"
    }
   ],
   "source": [
    "sns.boxplot(hostel.City, hostel['Price_from'])\n",
    "plt.show()\n",
    "# two obvious outliers in Tokyo and Osaka"
   ]
  },
  {
   "cell_type": "code",
   "execution_count": 155,
   "metadata": {
    "scrolled": true
   },
   "outputs": [
    {
     "data": {
      "image/png": "[encoded data removed]",
      "text/plain": [
       "<Figure size 432x288 with 1 Axes>"
      ]
     },
     "metadata": {
      "needs_background": "light"
     },
     "output_type": "display_data"
    }
   ],
   "source": [
    "hostel = hostel[hostel[\"Price_from\"] < 10000]\n",
    "sns.boxplot(hostel.City, hostel['Price_from'])\n",
    "plt.show()\n",
    "# It's expected that Tokyo would have a large range of hostel prices considering it is the capital city, most popular"
   ]
  },
  {
   "cell_type": "markdown",
   "metadata": {},
   "source": [
    "### Location, Location, Location"
   ]
  },
  {
   "cell_type": "code",
   "execution_count": 186,
   "metadata": {},
   "outputs": [
    {
     "data": {
      "image/png": "[encoded data removed]",
      "text/plain": [
       "<Figure size 720x432 with 1 Axes>"
      ]
     },
     "metadata": {
      "needs_background": "light"
     },
     "output_type": "display_data"
    }
   ],
   "source": [
    "plt.figure(figsize = (10,6))\n",
    "sns.scatterplot(data=hostel, x=hostel.Distance, y=hostel.Price_from, hue=hostel.City,)\n",
    "plt.show()"
   ]
  },
  {
   "cell_type": "markdown",
   "metadata": {},
   "source": [
    "It's surprising to see that distance from the city centre doesn't affect the pricing of Hostels.  \n",
    "Especially Kyoto, the majority of hostels are located within 5km of its centre."
   ]
  },
  {
   "cell_type": "code",
   "execution_count": 190,
   "metadata": {
    "scrolled": false
   },
   "outputs": [
    {
     "data": {
      "text/html": [
       "<div>\n",
       "<style scoped>\n",
       "    .dataframe tbody tr th:only-of-type {\n",
       "        vertical-align: middle;\n",
       "    }\n",
       "\n",
       "    .dataframe tbody tr th {\n",
       "        vertical-align: top;\n",
       "    }\n",
       "\n",
       "    .dataframe thead th {\n",
       "        text-align: right;\n",
       "    }\n",
       "</style>\n",
       "<table border=\"1\" class=\"dataframe\">\n",
       "  <thead>\n",
       "    <tr style=\"text-align: right;\">\n",
       "      <th></th>\n",
       "      <th>Price_from</th>\n",
       "      <th>Distance</th>\n",
       "      <th>Summary_Score</th>\n",
       "      <th>Atmosphere</th>\n",
       "      <th>Cleaniness</th>\n",
       "      <th>Facilities</th>\n",
       "      <th>Location</th>\n",
       "      <th>Security</th>\n",
       "      <th>Staff</th>\n",
       "      <th>Value</th>\n",
       "    </tr>\n",
       "    <tr>\n",
       "      <th>Rating</th>\n",
       "      <th></th>\n",
       "      <th></th>\n",
       "      <th></th>\n",
       "      <th></th>\n",
       "      <th></th>\n",
       "      <th></th>\n",
       "      <th></th>\n",
       "      <th></th>\n",
       "      <th></th>\n",
       "      <th></th>\n",
       "    </tr>\n",
       "  </thead>\n",
       "  <tbody>\n",
       "    <tr>\n",
       "      <th>Fabulous</th>\n",
       "      <td>2347.115385</td>\n",
       "      <td>5.296154</td>\n",
       "      <td>8.595192</td>\n",
       "      <td>7.921154</td>\n",
       "      <td>8.823077</td>\n",
       "      <td>8.307692</td>\n",
       "      <td>8.513462</td>\n",
       "      <td>8.800962</td>\n",
       "      <td>9.016346</td>\n",
       "      <td>8.747115</td>\n",
       "    </tr>\n",
       "    <tr>\n",
       "      <th>Good</th>\n",
       "      <td>2100.000000</td>\n",
       "      <td>6.427273</td>\n",
       "      <td>6.500000</td>\n",
       "      <td>5.800000</td>\n",
       "      <td>6.309091</td>\n",
       "      <td>6.163636</td>\n",
       "      <td>6.945455</td>\n",
       "      <td>6.636364</td>\n",
       "      <td>7.000000</td>\n",
       "      <td>6.636364</td>\n",
       "    </tr>\n",
       "    <tr>\n",
       "      <th>Rating</th>\n",
       "      <td>2387.500000</td>\n",
       "      <td>5.887500</td>\n",
       "      <td>4.850000</td>\n",
       "      <td>3.587500</td>\n",
       "      <td>5.162500</td>\n",
       "      <td>3.662500</td>\n",
       "      <td>6.250000</td>\n",
       "      <td>5.075000</td>\n",
       "      <td>5.000000</td>\n",
       "      <td>5.175000</td>\n",
       "    </tr>\n",
       "    <tr>\n",
       "      <th>Superb</th>\n",
       "      <td>2608.241758</td>\n",
       "      <td>5.935714</td>\n",
       "      <td>9.345055</td>\n",
       "      <td>8.985714</td>\n",
       "      <td>9.609341</td>\n",
       "      <td>9.280769</td>\n",
       "      <td>9.112088</td>\n",
       "      <td>9.450000</td>\n",
       "      <td>9.618681</td>\n",
       "      <td>9.360440</td>\n",
       "    </tr>\n",
       "    <tr>\n",
       "      <th>Very Good</th>\n",
       "      <td>2445.000000</td>\n",
       "      <td>6.425000</td>\n",
       "      <td>7.530000</td>\n",
       "      <td>6.520000</td>\n",
       "      <td>7.585000</td>\n",
       "      <td>7.110000</td>\n",
       "      <td>7.800000</td>\n",
       "      <td>8.000000</td>\n",
       "      <td>8.215000</td>\n",
       "      <td>7.585000</td>\n",
       "    </tr>\n",
       "  </tbody>\n",
       "</table>\n",
       "</div>"
      ],
      "text/plain": [
       "            Price_from  Distance  Summary_Score  Atmosphere  Cleaniness  \\\n",
       "Rating                                                                    \n",
       "Fabulous   2347.115385  5.296154       8.595192    7.921154    8.823077   \n",
       "Good       2100.000000  6.427273       6.500000    5.800000    6.309091   \n",
       "Rating     2387.500000  5.887500       4.850000    3.587500    5.162500   \n",
       "Superb     2608.241758  5.935714       9.345055    8.985714    9.609341   \n",
       "Very Good  2445.000000  6.425000       7.530000    6.520000    7.585000   \n",
       "\n",
       "           Facilities  Location  Security     Staff     Value  \n",
       "Rating                                                         \n",
       "Fabulous     8.307692  8.513462  8.800962  9.016346  8.747115  \n",
       "Good         6.163636  6.945455  6.636364  7.000000  6.636364  \n",
       "Rating       3.662500  6.250000  5.075000  5.000000  5.175000  \n",
       "Superb       9.280769  9.112088  9.450000  9.618681  9.360440  \n",
       "Very Good    7.110000  7.800000  8.000000  8.215000  7.585000  "
      ]
     },
     "execution_count": 190,
     "metadata": {},
     "output_type": "execute_result"
    }
   ],
   "source": [
    "## Rating bands\n",
    "hostel.groupby('Rating').mean()"
   ]
  },
  {
   "cell_type": "markdown",
   "metadata": {},
   "source": [
    "## What Can I expect for X JPY?"
   ]
  },
  {
   "cell_type": "code",
   "execution_count": 193,
   "metadata": {},
   "outputs": [],
   "source": [
    "from sklearn.linear_model import LinearRegression"
   ]
  },
  {
   "cell_type": "code",
   "execution_count": null,
   "metadata": {},
   "outputs": [],
   "source": []
  }
 ],
 "metadata": {
  "kernelspec": {
   "display_name": "Python 3",
   "language": "python",
   "name": "python3"
  },
  "language_info": {
   "codemirror_mode": {
    "name": "ipython",
    "version": 3
   },
   "file_extension": ".py",
   "mimetype": "text/x-python",
   "name": "python",
   "nbconvert_exporter": "python",
   "pygments_lexer": "ipython3",
   "version": "3.7.3"
  }
 },
 "nbformat": 4,
 "nbformat_minor": 2
}
